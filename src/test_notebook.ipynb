{
 "cells": [
  {
   "cell_type": "code",
   "execution_count": 27,
   "id": "f9172c13",
   "metadata": {},
   "outputs": [],
   "source": [
    "from quantum_board import QuantumBoard, init_classical_board\n",
    "from qiskit.circuit.library import HGate, CXGate, XGate\n",
    "import numpy as np\n",
    "\n",
    "from text_ui import print_all_board_clues, render_ascii"
   ]
  },
  {
   "cell_type": "code",
   "execution_count": 28,
   "id": "f90b2de2",
   "metadata": {},
   "outputs": [],
   "source": [
    "dim = (8, 8)\n",
    "nbombs = 5\n",
    "\n",
    "qb = init_classical_board(dim, nbombs)"
   ]
  },
  {
   "cell_type": "code",
   "execution_count": 29,
   "id": "71e6495f",
   "metadata": {},
   "outputs": [
    {
     "name": "stdout",
     "output_type": "stream",
     "text": [
      "____ ____ ____ ____ ____ ____ ____ ____\n",
      "____ ____ ____ ____ ____ ____ ____ ____\n",
      "____ ____ ____ ____ ____ ____ ____ ____\n",
      "____ ____ ____ ____ ____ ____ ____ ____\n",
      "____ ____ ____ ____ ____ ____ ____ ____\n",
      "____ ____ ____ ____ ____ ____ ____ ____\n",
      "____ ____ ____ ____ ____ ____ ____ ____\n",
      "____ ____ ____ ____ ____ ____ ____ ____\n",
      "ONGOING\n"
     ]
    }
   ],
   "source": [
    "print(render_ascii(qb, prec=2))\n",
    "print(qb.status)"
   ]
  },
  {
   "cell_type": "code",
   "execution_count": 30,
   "id": "4740d4c9",
   "metadata": {},
   "outputs": [
    {
     "name": "stdout",
     "output_type": "stream",
     "text": [
      "0.00 0.00 1.00 ____ 1.00 0.00 0.00 0.00\n",
      "0.00 0.00 2.00 ____ 3.00 1.00 0.00 0.00\n",
      "0.00 0.00 2.00 ____ ____ 1.00 0.00 0.00\n",
      "0.00 0.00 1.00 2.00 2.00 1.00 0.00 0.00\n",
      "0.00 0.00 0.00 0.00 0.00 0.00 0.00 0.00\n",
      "1.00 1.00 1.00 0.00 0.00 0.00 0.00 0.00\n",
      "____ ____ 2.00 0.00 0.00 0.00 0.00 0.00\n",
      "____ ____ 2.00 0.00 0.00 0.00 0.00 0.00\n",
      "ONGOING\n"
     ]
    }
   ],
   "source": [
    "qb.measure_connected(3, 0)\n",
    "qb.check_game_status()\n",
    "print(render_ascii(qb, prec=2))\n",
    "print(qb.status)\n"
   ]
  },
  {
   "cell_type": "code",
   "execution_count": 31,
   "id": "5545d70e",
   "metadata": {},
   "outputs": [],
   "source": [
    "# qb.measure_connected(2, 0)\n",
    "# qb.check_game_status()\n",
    "# print(render_ascii(qb, prec=2))\n",
    "# print(qb.status)\n"
   ]
  },
  {
   "cell_type": "code",
   "execution_count": 32,
   "id": "4e793838",
   "metadata": {},
   "outputs": [],
   "source": [
    "# qb.apply_gate(XGate(), [5])\n",
    "# print(render_ascii(qb, prec=2))"
   ]
  }
 ],
 "metadata": {
  "kernelspec": {
   "display_name": "qminesweep",
   "language": "python",
   "name": "python3"
  },
  "language_info": {
   "codemirror_mode": {
    "name": "ipython",
    "version": 3
   },
   "file_extension": ".py",
   "mimetype": "text/x-python",
   "name": "python",
   "nbconvert_exporter": "python",
   "pygments_lexer": "ipython3",
   "version": "3.13.5"
  }
 },
 "nbformat": 4,
 "nbformat_minor": 5
}
